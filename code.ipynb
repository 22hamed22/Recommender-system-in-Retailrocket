{
  "metadata": {
    "kernelspec": {
      "language": "python",
      "display_name": "Python 3",
      "name": "python3"
    },
    "language_info": {
      "name": "python",
      "version": "3.7.12",
      "mimetype": "text/x-python",
      "codemirror_mode": {
        "name": "ipython",
        "version": 3
      },
      "pygments_lexer": "ipython3",
      "nbconvert_exporter": "python",
      "file_extension": ".py"
    },
    "colab": {
      "provenance": []
    }
  },
  "nbformat_minor": 0,
  "nbformat": 4,
  "cells": [
    {
      "cell_type": "markdown",
      "source": [
        "<font size=\"+3\" ><b>Recommender system in Retailrocket dataset<b/></font><br>\n",
        "    \n",
        " <font size=\"+2\"> we apply following AI tecniques on Retail Rocket dataset which has been collected from a real-world ecommerce website<br>\n",
        " https://www.kaggle.com/datasets/retailrocket/ecommerce-dataset<br>\n",
        "\n",
        "<font size=\"+2\">\n",
        "<b>Steps:</b><br>\n",
        "\n",
        "1. Preprocessing<br>\n",
        "2. Pooularity system<br>\n",
        "3. Content-Based filtering<b>(CBF)</b><br>\n",
        "4. Content-Based & popularity<br>\n",
        "5. Collaborative Filtering<b>(CF)</b><br>\n",
        "6. Hybrid Model(<b>Light FM</b>)\n",
        "</font>\n",
        "\n",
        "<font size=\"+1\"> importing the required libraries for data manipulating, visualisation and recommender systems: </font>"
      ],
      "metadata": {
        "id": "REZBaJEwDszL"
      }
    },
    {
      "cell_type": "code",
      "source": [
        "# need for hybrid model\n",
        "!pip install lightfm;;"
      ],
      "metadata": {
        "colab": {
          "base_uri": "https://localhost:8080/"
        },
        "id": "xfieO0aUKI0J",
        "outputId": "6464d157-bde8-498a-f5cc-d9a021e89333"
      },
      "execution_count": 73,
      "outputs": [
        {
          "output_type": "stream",
          "name": "stdout",
          "text": [
            "/bin/bash: -c: line 0: syntax error near unexpected token `;;'\n",
            "/bin/bash: -c: line 0: `pip install lightfm;;'\n"
          ]
        }
      ]
    },
    {
      "cell_type": "code",
      "source": [
        "# basic library for data manipulation:\n",
        "import os \n",
        "import numpy as np\n",
        "import pandas as pd\n",
        "from tqdm import tqdm\n",
        "\n",
        " \n",
        "#visualisation:\n",
        "\n",
        "%matplotlib inline  \n",
        "import seaborn as sns\n",
        "import matplotlib.pyplot as plt\n",
        "plt.style.use('fivethirtyeight')\n",
        "sns.set(style='whitegrid',color_codes=True)\n",
        "from pylab import rcParams\n",
        "from matplotlib import style\n",
        "import matplotlib.ticker as tick\n",
        "\n",
        "\n",
        "#model selection\n",
        "from sklearn.metrics import accuracy_score,precision_score,recall_score,confusion_matrix,roc_curve,roc_auc_score\n",
        "from sklearn.preprocessing import LabelEncoder\n",
        "from sklearn.metrics.pairwise import cosine_similarity\n",
        "from sklearn.metrics import mean_squared_error\n",
        "from sklearn.model_selection import train_test_split\n",
        "\n",
        "\n",
        "#deep learning libraraies for Collaborative Filtering\n",
        "import keras\n",
        "from keras.layers import *\n",
        "from keras.models import Model\n",
        "from keras.models import Sequential\n",
        "from keras.layers import Dense , concatenate\n",
        "from keras.utils.vis_utils import model_to_dot\n",
        "from keras.layers import Flatten,Input,Embedding,dot\n",
        "from keras.optimizers import Adam,SGD,Adagrad,Adadelta,RMSprop\n",
        "from IPython.display import SVG ,display, Image\n",
        "\n",
        " \n",
        "#light FM:\n",
        "from scipy.sparse import coo_matrix \n",
        "from lightfm import LightFM\n",
        "from lightfm.evaluation import auc_score\n",
        "import pickle"
      ],
      "metadata": {
        "execution": {
          "iopub.status.busy": "2023-05-08T19:04:59.768433Z",
          "iopub.execute_input": "2023-05-08T19:04:59.768835Z",
          "iopub.status.idle": "2023-05-08T19:04:59.785162Z",
          "shell.execute_reply.started": "2023-05-08T19:04:59.768798Z",
          "shell.execute_reply": "2023-05-08T19:04:59.783803Z"
        },
        "trusted": true,
        "id": "pAE1IlptDszR"
      },
      "execution_count": 74,
      "outputs": []
    },
    {
      "cell_type": "markdown",
      "source": [
        "<font size=\"+3\"><b> Preprocessing:</b></font>\n",
        "\n",
        "\n",
        "<font size=\"+1\">\n",
        "1. Read events.csv ,item_properties_part1.csv, item_properties_part2.csv files into pandas dataframe.<br>\n",
        "2. Concatenate item_properties_1 and item_properties_2 dataframes into one dataframe.<br>\n",
        "3. Filter the items dataframe to only include the rows with 'property'equals to 'categoryid'.<br>\n",
        "4. Merge the item_df with events on 'itemid' column.<br>\n",
        "5. Convert the 'value' column of df1 to int datatype.<br>\n",
        "6. Rename the 'value' column to 'categoryid', drop 'timestamp' and 'transactionid' columns.<br>\n",
        "</font>"
      ],
      "metadata": {
        "id": "Zs2IGhY-DszT"
      }
    },
    {
      "cell_type": "markdown",
      "source": [
        "##  run cell bellow if you are on google colab otherwise uncomment the next cell if using Kaggle:"
      ],
      "metadata": {
        "id": "eBV3rjMeDszU"
      }
    },
    {
      "cell_type": "code",
      "source": [
        "fname = \"dataset.zip\"\n",
        "!gdown  https://drive.google.com/uc?id=15yIQN-bcbiIAKT_I84RkuRP-Yq_UmfRb -O {fname}\n",
        "!unzip -o {fname}\n",
        "\n",
        "\n",
        "event_dir= '/content/dataset/events.csv'\n",
        "item1_dir = '/content/dataset/item_properties_part1.csv'\n",
        "item2_dir= '/content/dataset/item_properties_part2.csv'\n",
        "\n",
        "event = pd.read_csv(event_dir)\n",
        "item_properties_1 = pd.read_csv(item1_dir)\n",
        "item_properties_2 = pd.read_csv(item2_dir)"
      ],
      "metadata": {
        "colab": {
          "base_uri": "https://localhost:8080/"
        },
        "id": "K7aUGI5XDyRz",
        "outputId": "f3c6e002-9701-4f36-e380-a7a1f8144ec8"
      },
      "execution_count": 106,
      "outputs": [
        {
          "output_type": "stream",
          "name": "stdout",
          "text": [
            "Downloading...\n",
            "From: https://drive.google.com/uc?id=15yIQN-bcbiIAKT_I84RkuRP-Yq_UmfRb\n",
            "To: /content/dataset.zip\n",
            "100% 305M/305M [00:03<00:00, 80.5MB/s]\n",
            "Archive:  dataset.zip\n",
            "  inflating: dataset/events.csv      \n",
            "  inflating: dataset/item_properties_part1.csv  \n",
            "  inflating: dataset/item_properties_part2.csv  \n"
          ]
        }
      ]
    },
    {
      "cell_type": "code",
      "source": [
        "# uncomment this if using kaggle:\n",
        "\n",
        "#event = pd.read_csv('/kaggle/input/ecommerce-dataset/events.csv')\n",
        "#item_properties_1 = pd.read_csv(\"/kaggle/input/ecommerce-dataset/item_properties_part1.csv\")\n",
        "#item_properties_2 = pd.read_csv(\"/kaggle/input/ecommerce-dataset/item_properties_part2.csv\")\n"
      ],
      "metadata": {
        "id": "j-gVZ8-aIh1s"
      },
      "execution_count": 76,
      "outputs": []
    },
    {
      "cell_type": "code",
      "source": [
        "items = pd.concat([item_properties_1, item_properties_2])\n",
        "events = event.copy()\n",
        "print(len(event))\n",
        "\n",
        "\n",
        "item_df = items[items['property'] == 'categoryid']\n",
        "df1 = events.merge(item_df[['itemid', 'value']], on='itemid')\n",
        "df1['value'] = df1['value'].astype(int)\n",
        "df1.rename(columns={'value':'categoryid'}, inplace=True)\n",
        "df1 = df1.drop(columns=['timestamp', 'transactionid'])\n",
        "df1.head()\n",
        "\n"
      ],
      "metadata": {
        "_uuid": "8f2839f25d086af736a60e9eeb907d3b93b6e0e5",
        "_cell_guid": "b1076dfc-b9ad-4769-8c92-a6c4dae69d19",
        "execution": {
          "iopub.status.busy": "2023-05-08T19:04:59.816378Z",
          "iopub.execute_input": "2023-05-08T19:04:59.816792Z",
          "iopub.status.idle": "2023-05-08T19:05:24.080715Z",
          "shell.execute_reply.started": "2023-05-08T19:04:59.816759Z",
          "shell.execute_reply": "2023-05-08T19:05:24.079260Z"
        },
        "trusted": true,
        "colab": {
          "base_uri": "https://localhost:8080/",
          "height": 223
        },
        "id": "r8CUVsMlDszU",
        "outputId": "22bba651-b7e9-4657-a680-207b25a9609a"
      },
      "execution_count": 77,
      "outputs": [
        {
          "output_type": "stream",
          "name": "stdout",
          "text": [
            "2756101\n"
          ]
        },
        {
          "output_type": "execute_result",
          "data": {
            "text/plain": [
              "   visitorid event  itemid  categoryid\n",
              "0     257597  view  355908        1173\n",
              "1     981382  view  355908        1173\n",
              "2     979686  view  355908        1173\n",
              "3     479732  view  355908        1173\n",
              "4     397425  view  355908        1173"
            ],
            "text/html": [
              "\n",
              "  <div id=\"df-e186c337-3428-465c-915a-d09ad842d287\">\n",
              "    <div class=\"colab-df-container\">\n",
              "      <div>\n",
              "<style scoped>\n",
              "    .dataframe tbody tr th:only-of-type {\n",
              "        vertical-align: middle;\n",
              "    }\n",
              "\n",
              "    .dataframe tbody tr th {\n",
              "        vertical-align: top;\n",
              "    }\n",
              "\n",
              "    .dataframe thead th {\n",
              "        text-align: right;\n",
              "    }\n",
              "</style>\n",
              "<table border=\"1\" class=\"dataframe\">\n",
              "  <thead>\n",
              "    <tr style=\"text-align: right;\">\n",
              "      <th></th>\n",
              "      <th>visitorid</th>\n",
              "      <th>event</th>\n",
              "      <th>itemid</th>\n",
              "      <th>categoryid</th>\n",
              "    </tr>\n",
              "  </thead>\n",
              "  <tbody>\n",
              "    <tr>\n",
              "      <th>0</th>\n",
              "      <td>257597</td>\n",
              "      <td>view</td>\n",
              "      <td>355908</td>\n",
              "      <td>1173</td>\n",
              "    </tr>\n",
              "    <tr>\n",
              "      <th>1</th>\n",
              "      <td>981382</td>\n",
              "      <td>view</td>\n",
              "      <td>355908</td>\n",
              "      <td>1173</td>\n",
              "    </tr>\n",
              "    <tr>\n",
              "      <th>2</th>\n",
              "      <td>979686</td>\n",
              "      <td>view</td>\n",
              "      <td>355908</td>\n",
              "      <td>1173</td>\n",
              "    </tr>\n",
              "    <tr>\n",
              "      <th>3</th>\n",
              "      <td>479732</td>\n",
              "      <td>view</td>\n",
              "      <td>355908</td>\n",
              "      <td>1173</td>\n",
              "    </tr>\n",
              "    <tr>\n",
              "      <th>4</th>\n",
              "      <td>397425</td>\n",
              "      <td>view</td>\n",
              "      <td>355908</td>\n",
              "      <td>1173</td>\n",
              "    </tr>\n",
              "  </tbody>\n",
              "</table>\n",
              "</div>\n",
              "      <button class=\"colab-df-convert\" onclick=\"convertToInteractive('df-e186c337-3428-465c-915a-d09ad842d287')\"\n",
              "              title=\"Convert this dataframe to an interactive table.\"\n",
              "              style=\"display:none;\">\n",
              "        \n",
              "  <svg xmlns=\"http://www.w3.org/2000/svg\" height=\"24px\"viewBox=\"0 0 24 24\"\n",
              "       width=\"24px\">\n",
              "    <path d=\"M0 0h24v24H0V0z\" fill=\"none\"/>\n",
              "    <path d=\"M18.56 5.44l.94 2.06.94-2.06 2.06-.94-2.06-.94-.94-2.06-.94 2.06-2.06.94zm-11 1L8.5 8.5l.94-2.06 2.06-.94-2.06-.94L8.5 2.5l-.94 2.06-2.06.94zm10 10l.94 2.06.94-2.06 2.06-.94-2.06-.94-.94-2.06-.94 2.06-2.06.94z\"/><path d=\"M17.41 7.96l-1.37-1.37c-.4-.4-.92-.59-1.43-.59-.52 0-1.04.2-1.43.59L10.3 9.45l-7.72 7.72c-.78.78-.78 2.05 0 2.83L4 21.41c.39.39.9.59 1.41.59.51 0 1.02-.2 1.41-.59l7.78-7.78 2.81-2.81c.8-.78.8-2.07 0-2.86zM5.41 20L4 18.59l7.72-7.72 1.47 1.35L5.41 20z\"/>\n",
              "  </svg>\n",
              "      </button>\n",
              "      \n",
              "  <style>\n",
              "    .colab-df-container {\n",
              "      display:flex;\n",
              "      flex-wrap:wrap;\n",
              "      gap: 12px;\n",
              "    }\n",
              "\n",
              "    .colab-df-convert {\n",
              "      background-color: #E8F0FE;\n",
              "      border: none;\n",
              "      border-radius: 50%;\n",
              "      cursor: pointer;\n",
              "      display: none;\n",
              "      fill: #1967D2;\n",
              "      height: 32px;\n",
              "      padding: 0 0 0 0;\n",
              "      width: 32px;\n",
              "    }\n",
              "\n",
              "    .colab-df-convert:hover {\n",
              "      background-color: #E2EBFA;\n",
              "      box-shadow: 0px 1px 2px rgba(60, 64, 67, 0.3), 0px 1px 3px 1px rgba(60, 64, 67, 0.15);\n",
              "      fill: #174EA6;\n",
              "    }\n",
              "\n",
              "    [theme=dark] .colab-df-convert {\n",
              "      background-color: #3B4455;\n",
              "      fill: #D2E3FC;\n",
              "    }\n",
              "\n",
              "    [theme=dark] .colab-df-convert:hover {\n",
              "      background-color: #434B5C;\n",
              "      box-shadow: 0px 1px 3px 1px rgba(0, 0, 0, 0.15);\n",
              "      filter: drop-shadow(0px 1px 2px rgba(0, 0, 0, 0.3));\n",
              "      fill: #FFFFFF;\n",
              "    }\n",
              "  </style>\n",
              "\n",
              "      <script>\n",
              "        const buttonEl =\n",
              "          document.querySelector('#df-e186c337-3428-465c-915a-d09ad842d287 button.colab-df-convert');\n",
              "        buttonEl.style.display =\n",
              "          google.colab.kernel.accessAllowed ? 'block' : 'none';\n",
              "\n",
              "        async function convertToInteractive(key) {\n",
              "          const element = document.querySelector('#df-e186c337-3428-465c-915a-d09ad842d287');\n",
              "          const dataTable =\n",
              "            await google.colab.kernel.invokeFunction('convertToInteractive',\n",
              "                                                     [key], {});\n",
              "          if (!dataTable) return;\n",
              "\n",
              "          const docLinkHtml = 'Like what you see? Visit the ' +\n",
              "            '<a target=\"_blank\" href=https://colab.research.google.com/notebooks/data_table.ipynb>data table notebook</a>'\n",
              "            + ' to learn more about interactive tables.';\n",
              "          element.innerHTML = '';\n",
              "          dataTable['output_type'] = 'display_data';\n",
              "          await google.colab.output.renderOutput(dataTable, element);\n",
              "          const docLink = document.createElement('div');\n",
              "          docLink.innerHTML = docLinkHtml;\n",
              "          element.appendChild(docLink);\n",
              "        }\n",
              "      </script>\n",
              "    </div>\n",
              "  </div>\n",
              "  "
            ]
          },
          "metadata": {},
          "execution_count": 77
        }
      ]
    },
    {
      "cell_type": "markdown",
      "source": [
        "<font size=\"+1\">\n",
        "* every row in data consider as a interaction which has been done by a visitor.<br>\n",
        "* we define a function named **interaction_filterd** to filter our data based on user interactions.<br>\n",
        "* we will use it in our methods frequently and play an important part in the result.<br>\n",
        "    \n",
        "<br>\n",
        "* we also should enumerate our interactions with a number which show the contribution of users, to do that we define function \"**get_rating**\".<br>\n",
        " (i.e: get_rating(1,2,3) means our view , add to cart and transaction are 1,2,3 respectively)\n",
        "</font>"
      ],
      "metadata": {
        "id": "MUFm340CDszW"
      }
    },
    {
      "cell_type": "code",
      "source": [
        "# every row in data consider as a interaction which has been done by a visitor\n",
        "# function below filter the visitor based on the number of their interaction\n",
        "\n",
        "def interaction_filter(n_interaction):\n",
        "    user_value_counts = df1['visitorid'].value_counts()\n",
        "    df = df1[df1['visitorid'].isin(user_value_counts[user_value_counts >=n_interaction].index)]\n",
        "    return df\n",
        "\n",
        "\n",
        "# create a function to converte events into a numerical rating value \n",
        "def get_rating(a, b, c):\n",
        "    def rating(x):\n",
        "        for e in x:\n",
        "            if e == 'view':          return a\n",
        "            elif e == 'addtocart':   return b\n",
        "            elif e == 'transaction': return c\n",
        "        return 0\n",
        "    return rating"
      ],
      "metadata": {
        "execution": {
          "iopub.status.busy": "2023-05-08T19:05:24.083120Z",
          "iopub.execute_input": "2023-05-08T19:05:24.083485Z",
          "iopub.status.idle": "2023-05-08T19:05:24.091783Z",
          "shell.execute_reply.started": "2023-05-08T19:05:24.083451Z",
          "shell.execute_reply": "2023-05-08T19:05:24.090579Z"
        },
        "trusted": true,
        "id": "Fe7oDK5eDszW"
      },
      "execution_count": 78,
      "outputs": []
    },
    {
      "cell_type": "code",
      "source": [
        "number_of_all_events= len(events)\n",
        "number_of_views= len(events[events['event']== \"view\"])\n",
        "number_of_add_to_cart= len(events[events['event']== \"addtocart\"])\n",
        "number_of_transactions= len(events[events['event']== \"transaction\"])\n",
        "number_of_unique_items = len(events['itemid'].unique())\n",
        "number_of_unique_visitors = len(events['visitorid'].unique())\n",
        "number_of_visitors_with_one = len(df1) - len(interaction_filter(2))\n",
        "\n",
        "\n",
        "print(f\"number of all events: {number_of_all_events}\")\n",
        "print(f\"views: {number_of_views}\")\n",
        "print(f\"add to carts: {number_of_add_to_cart}\")\n",
        "print(f\"transactions: {number_of_transactions} \\n\")\n",
        "print(f\"number of unique items: {number_of_unique_items}\")\n",
        "print(f\"number of unique visitors: {number_of_unique_visitors}\")\n",
        "print(f\"number of visitors with only 1 interaction : {number_of_visitors_with_one}\")\n"
      ],
      "metadata": {
        "execution": {
          "iopub.status.busy": "2023-05-08T19:05:24.093424Z",
          "iopub.execute_input": "2023-05-08T19:05:24.093755Z",
          "iopub.status.idle": "2023-05-08T19:05:25.625458Z",
          "shell.execute_reply.started": "2023-05-08T19:05:24.093723Z",
          "shell.execute_reply": "2023-05-08T19:05:25.624412Z"
        },
        "trusted": true,
        "id": "SWnisVSWDszX",
        "outputId": "d6deb3ce-460f-4b7b-cb10-f244bef660b7",
        "colab": {
          "base_uri": "https://localhost:8080/"
        }
      },
      "execution_count": 79,
      "outputs": [
        {
          "output_type": "stream",
          "name": "stdout",
          "text": [
            "number of all events: 2756101\n",
            "views: 2664312\n",
            "add to carts: 69332\n",
            "transactions: 22457 \n",
            "\n",
            "number of unique items: 235061\n",
            "number of unique visitors: 1407580\n",
            "number of visitors with only 1 interaction : 788782\n"
          ]
        }
      ]
    },
    {
      "cell_type": "markdown",
      "source": [
        "<font size=\"+1\">\n",
        "Number of all events: <b>2756101</b><br>\n",
        "Views: <b>2664312</b><br>\n",
        "Add to carts: <b>69332</b><br>\n",
        "Transactions: <b>22457</b><br>\n",
        "<br>\n",
        "Number of unique items: <b>235061</b><br>\n",
        "Number of unique visitors: <b>1407580</b><br>\n",
        "Number of visitors with only 1 interaction: <b>788782</b><br>\n",
        "The data reveals that visitors with only one interaction account for almost <b>28%</b> of all visitors.\n",
        "</font>"
      ],
      "metadata": {
        "id": "1N_QcEKWDszY"
      }
    },
    {
      "cell_type": "code",
      "source": [
        "# plot the events contents\n",
        "\n",
        "# this function used in Seaborn to customize the formatting of tick labels \n",
        "def f(value, tick_number):\n",
        "    return '{:,.0f}'.format(value)\n",
        "\n",
        "\n",
        "colors = ['red', 'limegreen', 'dodgerblue']\n",
        "\n",
        "\n",
        "plt.figure(figsize=(4,5))\n",
        "bar= sns.countplot(x='event', data=events)\n",
        "plt.suptitle('visitors interactions')\n",
        "bar.yaxis.set_major_formatter(tick.FuncFormatter(f))\n",
        "plt.show()"
      ],
      "metadata": {
        "execution": {
          "iopub.status.busy": "2023-05-08T19:05:25.628206Z",
          "iopub.execute_input": "2023-05-08T19:05:25.628598Z",
          "iopub.status.idle": "2023-05-08T19:05:27.648812Z",
          "shell.execute_reply.started": "2023-05-08T19:05:25.628561Z",
          "shell.execute_reply": "2023-05-08T19:05:27.647628Z"
        },
        "trusted": true,
        "id": "vTr-oIjsDszY",
        "outputId": "fa947f7f-80a6-4da3-8c51-0c9306869672",
        "colab": {
          "base_uri": "https://localhost:8080/",
          "height": 543
        }
      },
      "execution_count": 80,
      "outputs": [
        {
          "output_type": "display_data",
          "data": {
            "text/plain": [
              "<Figure size 400x500 with 1 Axes>"
            ],
            "image/png": "[encoded data removed]"
          },
          "metadata": {}
        }
      ]
    },
    {
      "cell_type": "markdown",
      "source": [
        "<font size=\"+3\"><b> Pooularity system:</b>"
      ],
      "metadata": {
        "id": "W4bvCtKPDszZ"
      }
    },
    {
      "cell_type": "code",
      "source": [
        "# create a weight column using numerical value of event column\n",
        "\n",
        "df= df1.copy()\n",
        "rating = get_rating(0.01, 0.1, 1)\n",
        "df['weight'] = df.apply(rating, axis=1)"
      ],
      "metadata": {
        "execution": {
          "iopub.status.busy": "2023-05-08T19:05:27.651403Z",
          "iopub.execute_input": "2023-05-08T19:05:27.652635Z",
          "iopub.status.idle": "2023-05-08T19:06:21.726080Z",
          "shell.execute_reply.started": "2023-05-08T19:05:27.652560Z",
          "shell.execute_reply": "2023-05-08T19:06:21.724653Z"
        },
        "trusted": true,
        "id": "_rifMpl5Dsza"
      },
      "execution_count": 81,
      "outputs": []
    },
    {
      "cell_type": "code",
      "source": [
        "#function below get the dataframe and return most interacted item in each category \n",
        "def get_weight(df):\n",
        "    group = df.groupby(['categoryid', 'itemid'], as_index=False)    \n",
        "    return group.agg({'weight': 'sum'}).sort_values(by=['categoryid', 'weight'], ascending=[True, False])"
      ],
      "metadata": {
        "execution": {
          "iopub.status.busy": "2023-05-08T19:06:21.727710Z",
          "iopub.execute_input": "2023-05-08T19:06:21.728086Z",
          "iopub.status.idle": "2023-05-08T19:06:21.734642Z",
          "shell.execute_reply.started": "2023-05-08T19:06:21.728042Z",
          "shell.execute_reply": "2023-05-08T19:06:21.733268Z"
        },
        "trusted": true,
        "id": "hoMXzzaDDsza"
      },
      "execution_count": 82,
      "outputs": []
    },
    {
      "cell_type": "markdown",
      "source": [
        "<font size=\"+2\">Return Top Item of a Random Category:</font>\n",
        "\n",
        "<font size=\"+1\">\n",
        "<b>Steps:</b><br>\n",
        "1. Get a random category ID from the dataset using the `sample` function.<br>\n",
        "2. Get all of the items belonging to the chosen category ID.<br>\n",
        "3. Group the items in a DataFrame based on their item ID and sum their weights.<br>\n",
        "4. Sort them in a descending way and create a new DataFrame named `top_items` which only includes the top 5 items.<br>\n",
        "</font>"
      ],
      "metadata": {
        "id": "BXJcWPJ3Dszb"
      }
    },
    {
      "cell_type": "code",
      "source": [
        "# function below \n",
        "\n",
        "def get_top_weighted_items_for_random_gategoryID(df):\n",
        "    category_id = df['categoryid'].sample(n=1, random_state=42).values[0]\n",
        "    items = df[df['categoryid'] == category_id]\n",
        "    item_weights = items.groupby('itemid', as_index=False)['weight'].sum()\n",
        "    top_items = item_weights.sort_values('weight', ascending=False).head(5)\n",
        "    print(f\" most popular items for category: {category_id} are:\")\n",
        "    return top_items, category_id\n",
        "\n",
        "\n",
        "top_items,category_id = get_top_weighted_items_for_random_gategoryID(df)\n",
        "top_items"
      ],
      "metadata": {
        "execution": {
          "iopub.status.busy": "2023-05-08T19:06:21.735832Z",
          "iopub.execute_input": "2023-05-08T19:06:21.736721Z",
          "iopub.status.idle": "2023-05-08T19:06:22.076215Z",
          "shell.execute_reply.started": "2023-05-08T19:06:21.736632Z",
          "shell.execute_reply": "2023-05-08T19:06:22.075045Z"
        },
        "trusted": true,
        "id": "yaLew9qQDszb",
        "outputId": "59240357-722c-43e2-ede6-4d5ae504a868",
        "colab": {
          "base_uri": "https://localhost:8080/",
          "height": 223
        }
      },
      "execution_count": 83,
      "outputs": [
        {
          "output_type": "stream",
          "name": "stdout",
          "text": [
            " most popular items for category: 381 are:\n"
          ]
        },
        {
          "output_type": "execute_result",
          "data": {
            "text/plain": [
              "     itemid  weight\n",
              "83   129279   18.76\n",
              "137  210846   17.88\n",
              "66    98012   14.22\n",
              "1      3902   10.44\n",
              "2      5206    9.96"
            ],
            "text/html": [
              "\n",
              "  <div id=\"df-1f1ccf55-a8f1-4bfb-878e-a9702964e1bd\">\n",
              "    <div class=\"colab-df-container\">\n",
              "      <div>\n",
              "<style scoped>\n",
              "    .dataframe tbody tr th:only-of-type {\n",
              "        vertical-align: middle;\n",
              "    }\n",
              "\n",
              "    .dataframe tbody tr th {\n",
              "        vertical-align: top;\n",
              "    }\n",
              "\n",
              "    .dataframe thead th {\n",
              "        text-align: right;\n",
              "    }\n",
              "</style>\n",
              "<table border=\"1\" class=\"dataframe\">\n",
              "  <thead>\n",
              "    <tr style=\"text-align: right;\">\n",
              "      <th></th>\n",
              "      <th>itemid</th>\n",
              "      <th>weight</th>\n",
              "    </tr>\n",
              "  </thead>\n",
              "  <tbody>\n",
              "    <tr>\n",
              "      <th>83</th>\n",
              "      <td>129279</td>\n",
              "      <td>18.76</td>\n",
              "    </tr>\n",
              "    <tr>\n",
              "      <th>137</th>\n",
              "      <td>210846</td>\n",
              "      <td>17.88</td>\n",
              "    </tr>\n",
              "    <tr>\n",
              "      <th>66</th>\n",
              "      <td>98012</td>\n",
              "      <td>14.22</td>\n",
              "    </tr>\n",
              "    <tr>\n",
              "      <th>1</th>\n",
              "      <td>3902</td>\n",
              "      <td>10.44</td>\n",
              "    </tr>\n",
              "    <tr>\n",
              "      <th>2</th>\n",
              "      <td>5206</td>\n",
              "      <td>9.96</td>\n",
              "    </tr>\n",
              "  </tbody>\n",
              "</table>\n",
              "</div>\n",
              "      <button class=\"colab-df-convert\" onclick=\"convertToInteractive('df-1f1ccf55-a8f1-4bfb-878e-a9702964e1bd')\"\n",
              "              title=\"Convert this dataframe to an interactive table.\"\n",
              "              style=\"display:none;\">\n",
              "        \n",
              "  <svg xmlns=\"http://www.w3.org/2000/svg\" height=\"24px\"viewBox=\"0 0 24 24\"\n",
              "       width=\"24px\">\n",
              "    <path d=\"M0 0h24v24H0V0z\" fill=\"none\"/>\n",
              "    <path d=\"M18.56 5.44l.94 2.06.94-2.06 2.06-.94-2.06-.94-.94-2.06-.94 2.06-2.06.94zm-11 1L8.5 8.5l.94-2.06 2.06-.94-2.06-.94L8.5 2.5l-.94 2.06-2.06.94zm10 10l.94 2.06.94-2.06 2.06-.94-2.06-.94-.94-2.06-.94 2.06-2.06.94z\"/><path d=\"M17.41 7.96l-1.37-1.37c-.4-.4-.92-.59-1.43-.59-.52 0-1.04.2-1.43.59L10.3 9.45l-7.72 7.72c-.78.78-.78 2.05 0 2.83L4 21.41c.39.39.9.59 1.41.59.51 0 1.02-.2 1.41-.59l7.78-7.78 2.81-2.81c.8-.78.8-2.07 0-2.86zM5.41 20L4 18.59l7.72-7.72 1.47 1.35L5.41 20z\"/>\n",
              "  </svg>\n",
              "      </button>\n",
              "      \n",
              "  <style>\n",
              "    .colab-df-container {\n",
              "      display:flex;\n",
              "      flex-wrap:wrap;\n",
              "      gap: 12px;\n",
              "    }\n",
              "\n",
              "    .colab-df-convert {\n",
              "      background-color: #E8F0FE;\n",
              "      border: none;\n",
              "      border-radius: 50%;\n",
              "      cursor: pointer;\n",
              "      display: none;\n",
              "      fill: #1967D2;\n",
              "      height: 32px;\n",
              "      padding: 0 0 0 0;\n",
              "      width: 32px;\n",
              "    }\n",
              "\n",
              "    .colab-df-convert:hover {\n",
              "      background-color: #E2EBFA;\n",
              "      box-shadow: 0px 1px 2px rgba(60, 64, 67, 0.3), 0px 1px 3px 1px rgba(60, 64, 67, 0.15);\n",
              "      fill: #174EA6;\n",
              "    }\n",
              "\n",
              "    [theme=dark] .colab-df-convert {\n",
              "      background-color: #3B4455;\n",
              "      fill: #D2E3FC;\n",
              "    }\n",
              "\n",
              "    [theme=dark] .colab-df-convert:hover {\n",
              "      background-color: #434B5C;\n",
              "      box-shadow: 0px 1px 3px 1px rgba(0, 0, 0, 0.15);\n",
              "      filter: drop-shadow(0px 1px 2px rgba(0, 0, 0, 0.3));\n",
              "      fill: #FFFFFF;\n",
              "    }\n",
              "  </style>\n",
              "\n",
              "      <script>\n",
              "        const buttonEl =\n",
              "          document.querySelector('#df-1f1ccf55-a8f1-4bfb-878e-a9702964e1bd button.colab-df-convert');\n",
              "        buttonEl.style.display =\n",
              "          google.colab.kernel.accessAllowed ? 'block' : 'none';\n",
              "\n",
              "        async function convertToInteractive(key) {\n",
              "          const element = document.querySelector('#df-1f1ccf55-a8f1-4bfb-878e-a9702964e1bd');\n",
              "          const dataTable =\n",
              "            await google.colab.kernel.invokeFunction('convertToInteractive',\n",
              "                                                     [key], {});\n",
              "          if (!dataTable) return;\n",
              "\n",
              "          const docLinkHtml = 'Like what you see? Visit the ' +\n",
              "            '<a target=\"_blank\" href=https://colab.research.google.com/notebooks/data_table.ipynb>data table notebook</a>'\n",
              "            + ' to learn more about interactive tables.';\n",
              "          element.innerHTML = '';\n",
              "          dataTable['output_type'] = 'display_data';\n",
              "          await google.colab.output.renderOutput(dataTable, element);\n",
              "          const docLink = document.createElement('div');\n",
              "          docLink.innerHTML = docLinkHtml;\n",
              "          element.appendChild(docLink);\n",
              "        }\n",
              "      </script>\n",
              "    </div>\n",
              "  </div>\n",
              "  "
            ]
          },
          "metadata": {},
          "execution_count": 83
        }
      ]
    },
    {
      "cell_type": "markdown",
      "source": [
        "<font size=\"+1\"> 1.  convert the weight and item id to list<br> 1. plot them:</font>"
      ],
      "metadata": {
        "id": "DaK4GizLDszd"
      }
    },
    {
      "cell_type": "code",
      "source": [
        "weight = top_items['weight'].tolist()\n",
        "itemid = top_items['itemid'].tolist()\n",
        "itemid =[str(item) for item in itemid]\n",
        "\n",
        "\n",
        "colors = ['red', 'limegreen', 'dodgerblue', 'gold', 'fuchsia']\n",
        "plt.bar(itemid, weight, color=colors)\n",
        "\n",
        "# set title and axis labels\n",
        "plt.title(f'top 5 items of category id: {category_id} ')\n",
        "plt.xlabel('itemid ids')\n",
        "plt.ylabel('weights')\n",
        "plt.show()"
      ],
      "metadata": {
        "execution": {
          "iopub.status.busy": "2023-05-08T19:06:22.077858Z",
          "iopub.execute_input": "2023-05-08T19:06:22.078337Z",
          "iopub.status.idle": "2023-05-08T19:06:22.326605Z",
          "shell.execute_reply.started": "2023-05-08T19:06:22.078271Z",
          "shell.execute_reply": "2023-05-08T19:06:22.321195Z"
        },
        "trusted": true,
        "id": "2inVKQT0Dszd",
        "outputId": "3a0b4b3b-e663-4745-c894-fec6dc806864",
        "colab": {
          "base_uri": "https://localhost:8080/",
          "height": 499
        }
      },
      "execution_count": 84,
      "outputs": [
        {
          "output_type": "display_data",
          "data": {
            "text/plain": [
              "<Figure size 640x480 with 1 Axes>"
            ],
            "image/png": "[encoded data removed]"
          },
          "metadata": {}
        }
      ]
    },
    {
      "cell_type": "markdown",
      "source": [
        "<font size=\"+3\"><b> Content-Based filtering:</b>\n",
        "\n",
        "<font size=\"+1\">\n",
        "Content-based Filtering is a recommender system which make recommendaation based on similarity between items.<br>\n",
        "\n",
        "The cosine similarity between the item vectors is then calculated by dividing the vectors' dot products by their norm of vectors.\n",
        "</font>\n",
        "\n",
        "![image.png](attachment:6f14a5df-24eb-4433-9a7e-3a67d930f396.png)"
      ],
      "metadata": {
        "id": "mGwnHhFjDsze"
      }
    },
    {
      "cell_type": "markdown",
      "source": [
        "<font size=\"+3\">CB_model:</font>\n",
        "\n",
        "<font size=\"+1\">\n",
        "<b>Steps:</b><br>\n",
        "1. apply interaction_filter to keep users with required interaction minimum and drop duplicate items<br>\n",
        "2. due to matix limitation select a raction of the total rows to have a smaller size.<br>\n",
        "3. groupthe  categories and creating a series where each category has a list of its items a list.<br>\n",
        "4. Create a cooccurrence matrix and for each pair of category and item set the value to 1 if item belongs to th category, otherwise set to 0.<br>\n",
        "5. calculate the similarity between all pairs of items by applying cosine similarity on cooccurrence matrix.<br> \n",
        "</font>\n",
        "\n",
        "<font size=\"+3\">evaluate CB by calculating percision and recall:</font>\n",
        "\n",
        "<font size=\"+1\">\n",
        "<b>Steps:</b><br>\n",
        "1. apply a for loop for each unique user<br>\n",
        "2. computes the most frequently interacted item for each user.<br>\n",
        "3. find the similar items using cosine similarity <br>\n",
        "4. select the top 100 items and put them in recommended_items<br>\n",
        "5. create a list of user_items that the selected user has interacted with<br>\n",
        "6. create list of correct_items which include items that are common in both user_items and recommended_items <br>\n",
        "7. for <b> Recall </b> calculating the accuracy by dividing size of correct_items by size of user_items for each user and get the average.<br>\n",
        "8. for <b> precision </b> calculating the percision by dividing size of correct_items by size of recommended_items for each user and get the average.<br>\n",
        "</font>"
      ],
      "metadata": {
        "id": "V1sYxfy5Dsze"
      }
    },
    {
      "cell_type": "code",
      "source": [
        "def CB_model(n_interaction, frac):\n",
        "    dataCB = interaction_filter(n_interaction)\n",
        "    dataCB = dataCB.drop_duplicates(subset='itemid', keep='first')\n",
        "    dataCB = dataCB.sample(frac= frac)\n",
        "    item_category = dataCB.groupby('categoryid')['itemid'].apply(list)\n",
        "    item_cooccurrence = item_category.apply(lambda x: pd.Series(1, index=x)).fillna(0)\n",
        "    item_similarity = cosine_similarity(item_cooccurrence.T)\n",
        "    return item_similarity,item_cooccurrence ,dataCB\n",
        "\n",
        "def evaluate_CB():\n",
        "    users_u = dataCB.visitorid.unique()\n",
        "   \n",
        "    accuracies = []\n",
        "    precisions = []\n",
        "\n",
        "\n",
        "    \n",
        "    for user in users_u:\n",
        "        user_data = dataCB[dataCB['visitorid'] == user]\n",
        "        item_counts = user_data.groupby('itemid').size()\n",
        "        most_interacted_item = item_counts.sort_values(ascending=False).index[0]\n",
        "        col_num = item_cooccurrence.columns.get_loc(most_interacted_item)\n",
        "        similar_scores = item_similarity[col_num]\n",
        "        similar_items = np.argpartition(-similar_scores, 100)[1:101]\n",
        "        recommended_items = item_cooccurrence.columns[similar_items]\n",
        "\n",
        "        user_items = dataCB[dataCB['visitorid'] == user]['itemid']\n",
        "        correct_items = [item for item in recommended_items if item in user_items]\n",
        "        \n",
        "        #recall for this user\n",
        "        accuracy = len(correct_items) / len(user_data)\n",
        "        accuracies.append(accuracy)\n",
        "\n",
        "        #percision for this user\n",
        "        precision = len(correct_items) / len(recommended_items)\n",
        "        precisions.append(precision)\n",
        "        \n",
        "    avg_recall = 100* sum(accuracies) / len(accuracies)\n",
        "    avg_precision = 100*sum(precisions) / len(precisions)\n",
        "    \n",
        "    print(f\"CB precision across all users: {avg_precision:.2f}% \")\n",
        "    print(f\"CB recall across all users: {avg_recall:.2f}% \")\n",
        "    #print(users_ids)\n"
      ],
      "metadata": {
        "execution": {
          "iopub.status.busy": "2023-05-08T19:06:22.328602Z",
          "iopub.execute_input": "2023-05-08T19:06:22.329170Z",
          "iopub.status.idle": "2023-05-08T19:06:22.344571Z",
          "shell.execute_reply.started": "2023-05-08T19:06:22.329110Z",
          "shell.execute_reply": "2023-05-08T19:06:22.343160Z"
        },
        "trusted": true,
        "id": "MguKkz6PDszf"
      },
      "execution_count": 85,
      "outputs": []
    },
    {
      "cell_type": "markdown",
      "source": [
        "<font size=\"+2\">get top 5 similar items for a random user:<br> </font><br>\n",
        "\n",
        "<font size=\"+1\">\n",
        "* in the following cell we create a list of unique user ids<br>\n",
        "* randomely choose a user_id<br>\n",
        "* selects all items interacted  by the randomly selected user<br>\n",
        "* select item that the user interacted with the most after sorting them in a descending order<br>\n",
        "* find the column index of that item in the item_cooccurrence matrix<br>\n",
        "* get the similarity scores of that item with other items<br>\n",
        "* get the indexes of the top 5 items that have the highest similarity to that item<br>\n",
        "* finds the top 5 column names in the item_cooccurrence matrix and print them<br>\n",
        "    \n",
        " </font>"
      ],
      "metadata": {
        "id": "X5CO5NmODszg"
      }
    },
    {
      "cell_type": "code",
      "source": [
        "item_similarity ,item_cooccurrence , dataCB = CB_model(n_interaction=300, frac=0.4)\n",
        "\n",
        "users_u = dataCB.visitorid.unique()                            \n",
        "selected_user = np.random.choice(users_u)\n",
        "user_data = dataCB[dataCB['visitorid'] == selected_user]\n",
        "item_counts = user_data.groupby('itemid').size()\n",
        "most_interacted_item = item_counts.sort_values(ascending=False).index[0]\n",
        "col_num = item_cooccurrence.columns.get_loc(most_interacted_item)\n",
        "similar_scores = item_similarity[col_num]\n",
        "similar_items_indices = np.argpartition(-similar_scores, 5)[1:6]\n",
        "similar_items = item_cooccurrence.columns[similar_items_indices]\n",
        "print(f\"top 5 similar items to user {selected_user} are:   {similar_items}\")"
      ],
      "metadata": {
        "execution": {
          "iopub.status.busy": "2023-05-08T19:06:22.348609Z",
          "iopub.execute_input": "2023-05-08T19:06:22.349329Z",
          "iopub.status.idle": "2023-05-08T19:06:29.201414Z",
          "shell.execute_reply.started": "2023-05-08T19:06:22.349276Z",
          "shell.execute_reply": "2023-05-08T19:06:29.199969Z"
        },
        "trusted": true,
        "id": "rvj8SZIBDszg",
        "outputId": "43096375-beb0-4fcf-ccbd-ffee38bf6b4d",
        "colab": {
          "base_uri": "https://localhost:8080/"
        }
      },
      "execution_count": 86,
      "outputs": [
        {
          "output_type": "stream",
          "name": "stdout",
          "text": [
            "top 5 similar items to user 962131 are:   Int64Index([285152, 391865, 333023, 234494, 73760], dtype='int64')\n"
          ]
        }
      ]
    },
    {
      "cell_type": "markdown",
      "source": [
        "<font size=\"+1\">in the following cell, we are only using half of the users who have more than 300 interactions:<br>\n",
        "because cosine similarity is limited and we cannot utilize all of our records.<br>\n",
        "<b>This issue leads to an unreasonable precision and recall which is not accepted:</b><br>\n",
        "this happened because we have to drop a large fraction of our dataset and our items in this dataset only have on column as a featuer which is not enough,<br>\n",
        "However we will solve this by using DL.\n",
        " \n",
        "</font>\n",
        "    "
      ],
      "metadata": {
        "id": "4mI9N0_QDszg"
      }
    },
    {
      "cell_type": "code",
      "source": [
        "# so it is apparent that without using deep learning recall and percision is almost 0.\n",
        "\n",
        "#CB_model(n_interaction=300, frac=0.5)\n",
        "\n",
        "CB_model(n_interaction=100, frac=0.2)\n",
        "evaluate_CB()"
      ],
      "metadata": {
        "execution": {
          "iopub.status.busy": "2023-05-08T19:06:29.202994Z",
          "iopub.execute_input": "2023-05-08T19:06:29.203395Z",
          "iopub.status.idle": "2023-05-08T19:06:33.646973Z",
          "shell.execute_reply.started": "2023-05-08T19:06:29.203356Z",
          "shell.execute_reply": "2023-05-08T19:06:33.645097Z"
        },
        "trusted": true,
        "id": "kmFywhC9Dszh",
        "outputId": "63f0b3ac-0af0-48b7-a9ff-5a0830396351",
        "colab": {
          "base_uri": "https://localhost:8080/"
        }
      },
      "execution_count": 87,
      "outputs": [
        {
          "output_type": "stream",
          "name": "stdout",
          "text": [
            "CB precision across all users: 0.00% \n",
            "CB recall across all users: 0.00% \n"
          ]
        }
      ]
    },
    {
      "cell_type": "markdown",
      "source": [
        "<font size=\"+3\"><b> CB & Populariy-based:</b>\n",
        "    \n",
        "<font size=\"+1\">\n",
        "in the following cell I created a function which is a combination of CB and popularity system.<br>\n",
        "\n",
        "Although this approach might already exist in papers,I came up with it and wanted to share the results with you. <br>\n",
        "Nonetheless, it did give accuracy or recall and is not comparable at all with other approaches  .<br>\n",
        "    \n",
        "\n",
        "as you know:<br>\n",
        "<b>CB:</b> find similarity between items based on there feature and recommend it to user<br>\n",
        "<b>popularity:</b> filter the top interacted items and recommend them <br>\n",
        "\n",
        "<font size=\"+1\">\n",
        "<b>Steps:</b><br>\n",
        "1. get a random visitor id<br>\n",
        "2. keep this user and filter other ones <br>\n",
        "3. get the top 5 category id that this user had the most interaction with<br>\n",
        "4. create a new datafraim named:top_items_df with these columns=['visitorid', 'categoryid', 'item_recommended', 'weight']<br>\n",
        "5. for each top 5 category id we filters the main dataframe to include only rows that have'categoryid.<br>\n",
        "6. groups the data by 'itemid' calculating the sum of the 'weight'<br>\n",
        "6. Sort them in descending order and recommend the top 5 <br>\n",
        "</font>\n"
      ],
      "metadata": {
        "id": "3niimhVGDszh"
      }
    },
    {
      "cell_type": "code",
      "source": [
        "def get_top_weighted_items_for_random_visitor(df):\n",
        "    visitor_id = random_visitor_id = datan['visitorid'].sample().iloc[0]\n",
        "    visitor_data = df[df['visitorid'] == visitor_id]\n",
        "    category_counts = visitor_data['categoryid'].value_counts().head(5)\n",
        "\n",
        "    top_items_df = pd.DataFrame(columns=['visitorid', 'categoryid', 'item_recommended', 'weight'])\n",
        "\n",
        "\n",
        "    for category_id in category_counts.index:\n",
        "        c_data = df[df['categoryid'] == category_id]\n",
        "        item_weights = c_data.groupby('itemid', as_index=False)['weight'].sum()\n",
        "        top_item = item_weights.sort_values('weight', ascending=False).iloc[0]\n",
        "        top_items_df.loc[len(top_items_df)] = [visitor_id, category_id, top_item['itemid'], top_item['weight']]\n",
        "    \n",
        "    return top_items_df\n",
        "\n",
        "datan = interaction_filter(n_interaction= 100)\n",
        "len(datan)\n",
        "\n",
        "get_top_weighted_items_for_random_visitor(df)"
      ],
      "metadata": {
        "execution": {
          "iopub.status.busy": "2023-05-08T19:06:33.648882Z",
          "iopub.execute_input": "2023-05-08T19:06:33.649445Z",
          "iopub.status.idle": "2023-05-08T19:06:34.241632Z",
          "shell.execute_reply.started": "2023-05-08T19:06:33.649386Z",
          "shell.execute_reply": "2023-05-08T19:06:34.240415Z"
        },
        "trusted": true,
        "id": "ZPWUUB0GDszh",
        "outputId": "d1c28876-79b6-4fd7-cb66-2b8c77d7a71f",
        "colab": {
          "base_uri": "https://localhost:8080/",
          "height": 206
        }
      },
      "execution_count": 88,
      "outputs": [
        {
          "output_type": "execute_result",
          "data": {
            "text/plain": [
              "   visitorid  categoryid  item_recommended   weight\n",
              "0   737053.0       396.0          122585.0    10.72\n",
              "1   737053.0       716.0          456276.0     6.50\n",
              "2   737053.0       558.0          444888.0    20.02\n",
              "3   737053.0       317.0           62275.0    11.08\n",
              "4   737053.0       707.0          320130.0  1027.31"
            ],
            "text/html": [
              "\n",
              "  <div id=\"df-61a97787-a5aa-444e-a09f-47d2ff74fe4d\">\n",
              "    <div class=\"colab-df-container\">\n",
              "      <div>\n",
              "<style scoped>\n",
              "    .dataframe tbody tr th:only-of-type {\n",
              "        vertical-align: middle;\n",
              "    }\n",
              "\n",
              "    .dataframe tbody tr th {\n",
              "        vertical-align: top;\n",
              "    }\n",
              "\n",
              "    .dataframe thead th {\n",
              "        text-align: right;\n",
              "    }\n",
              "</style>\n",
              "<table border=\"1\" class=\"dataframe\">\n",
              "  <thead>\n",
              "    <tr style=\"text-align: right;\">\n",
              "      <th></th>\n",
              "      <th>visitorid</th>\n",
              "      <th>categoryid</th>\n",
              "      <th>item_recommended</th>\n",
              "      <th>weight</th>\n",
              "    </tr>\n",
              "  </thead>\n",
              "  <tbody>\n",
              "    <tr>\n",
              "      <th>0</th>\n",
              "      <td>737053.0</td>\n",
              "      <td>396.0</td>\n",
              "      <td>122585.0</td>\n",
              "      <td>10.72</td>\n",
              "    </tr>\n",
              "    <tr>\n",
              "      <th>1</th>\n",
              "      <td>737053.0</td>\n",
              "      <td>716.0</td>\n",
              "      <td>456276.0</td>\n",
              "      <td>6.50</td>\n",
              "    </tr>\n",
              "    <tr>\n",
              "      <th>2</th>\n",
              "      <td>737053.0</td>\n",
              "      <td>558.0</td>\n",
              "      <td>444888.0</td>\n",
              "      <td>20.02</td>\n",
              "    </tr>\n",
              "    <tr>\n",
              "      <th>3</th>\n",
              "      <td>737053.0</td>\n",
              "      <td>317.0</td>\n",
              "      <td>62275.0</td>\n",
              "      <td>11.08</td>\n",
              "    </tr>\n",
              "    <tr>\n",
              "      <th>4</th>\n",
              "      <td>737053.0</td>\n",
              "      <td>707.0</td>\n",
              "      <td>320130.0</td>\n",
              "      <td>1027.31</td>\n",
              "    </tr>\n",
              "  </tbody>\n",
              "</table>\n",
              "</div>\n",
              "      <button class=\"colab-df-convert\" onclick=\"convertToInteractive('df-61a97787-a5aa-444e-a09f-47d2ff74fe4d')\"\n",
              "              title=\"Convert this dataframe to an interactive table.\"\n",
              "              style=\"display:none;\">\n",
              "        \n",
              "  <svg xmlns=\"http://www.w3.org/2000/svg\" height=\"24px\"viewBox=\"0 0 24 24\"\n",
              "       width=\"24px\">\n",
              "    <path d=\"M0 0h24v24H0V0z\" fill=\"none\"/>\n",
              "    <path d=\"M18.56 5.44l.94 2.06.94-2.06 2.06-.94-2.06-.94-.94-2.06-.94 2.06-2.06.94zm-11 1L8.5 8.5l.94-2.06 2.06-.94-2.06-.94L8.5 2.5l-.94 2.06-2.06.94zm10 10l.94 2.06.94-2.06 2.06-.94-2.06-.94-.94-2.06-.94 2.06-2.06.94z\"/><path d=\"M17.41 7.96l-1.37-1.37c-.4-.4-.92-.59-1.43-.59-.52 0-1.04.2-1.43.59L10.3 9.45l-7.72 7.72c-.78.78-.78 2.05 0 2.83L4 21.41c.39.39.9.59 1.41.59.51 0 1.02-.2 1.41-.59l7.78-7.78 2.81-2.81c.8-.78.8-2.07 0-2.86zM5.41 20L4 18.59l7.72-7.72 1.47 1.35L5.41 20z\"/>\n",
              "  </svg>\n",
              "      </button>\n",
              "      \n",
              "  <style>\n",
              "    .colab-df-container {\n",
              "      display:flex;\n",
              "      flex-wrap:wrap;\n",
              "      gap: 12px;\n",
              "    }\n",
              "\n",
              "    .colab-df-convert {\n",
              "      background-color: #E8F0FE;\n",
              "      border: none;\n",
              "      border-radius: 50%;\n",
              "      cursor: pointer;\n",
              "      display: none;\n",
              "      fill: #1967D2;\n",
              "      height: 32px;\n",
              "      padding: 0 0 0 0;\n",
              "      width: 32px;\n",
              "    }\n",
              "\n",
              "    .colab-df-convert:hover {\n",
              "      background-color: #E2EBFA;\n",
              "      box-shadow: 0px 1px 2px rgba(60, 64, 67, 0.3), 0px 1px 3px 1px rgba(60, 64, 67, 0.15);\n",
              "      fill: #174EA6;\n",
              "    }\n",
              "\n",
              "    [theme=dark] .colab-df-convert {\n",
              "      background-color: #3B4455;\n",
              "      fill: #D2E3FC;\n",
              "    }\n",
              "\n",
              "    [theme=dark] .colab-df-convert:hover {\n",
              "      background-color: #434B5C;\n",
              "      box-shadow: 0px 1px 3px 1px rgba(0, 0, 0, 0.15);\n",
              "      filter: drop-shadow(0px 1px 2px rgba(0, 0, 0, 0.3));\n",
              "      fill: #FFFFFF;\n",
              "    }\n",
              "  </style>\n",
              "\n",
              "      <script>\n",
              "        const buttonEl =\n",
              "          document.querySelector('#df-61a97787-a5aa-444e-a09f-47d2ff74fe4d button.colab-df-convert');\n",
              "        buttonEl.style.display =\n",
              "          google.colab.kernel.accessAllowed ? 'block' : 'none';\n",
              "\n",
              "        async function convertToInteractive(key) {\n",
              "          const element = document.querySelector('#df-61a97787-a5aa-444e-a09f-47d2ff74fe4d');\n",
              "          const dataTable =\n",
              "            await google.colab.kernel.invokeFunction('convertToInteractive',\n",
              "                                                     [key], {});\n",
              "          if (!dataTable) return;\n",
              "\n",
              "          const docLinkHtml = 'Like what you see? Visit the ' +\n",
              "            '<a target=\"_blank\" href=https://colab.research.google.com/notebooks/data_table.ipynb>data table notebook</a>'\n",
              "            + ' to learn more about interactive tables.';\n",
              "          element.innerHTML = '';\n",
              "          dataTable['output_type'] = 'display_data';\n",
              "          await google.colab.output.renderOutput(dataTable, element);\n",
              "          const docLink = document.createElement('div');\n",
              "          docLink.innerHTML = docLinkHtml;\n",
              "          element.appendChild(docLink);\n",
              "        }\n",
              "      </script>\n",
              "    </div>\n",
              "  </div>\n",
              "  "
            ]
          },
          "metadata": {},
          "execution_count": 88
        }
      ]
    },
    {
      "cell_type": "markdown",
      "source": [
        "<font size=\"+3\"><b> Collaborative Filtering:</b><br>\n",
        "\n",
        "  <font size=\"+1\">we use MAtrix Factorisation(MF) approach which is a method of CF to train our deep learning model for item-user rating:</font>\n",
        "    \n",
        "![image.png](attachment:777b51b8-929e-4233-bd34-b795c18b925b.png)!\n",
        "    \n",
        "<font size=\"+1\">\n",
        "<b>CF model:</b><br>\n",
        "1. Clear previous Keras session ,Filter interactions<br> \n",
        "2. Group data by visitorids, itemids, and categoryisd and get the rating for each group<br>\n",
        "3. Get the number of unique visitors and items and Create lists of unique for each one<br>\n",
        "4. map visitors and items to their index values and replace them with their index values<br>\n",
        "5. Split data into train and test sets<br>\n",
        "6. Define an input layer for items and visitors embeddings <br>\n",
        "7. Create item and visitor embeddings, specify the number of latent Factors, Flatten them<br>\n",
        "8. Calculate dot product between visitor and item vectors<br>\n",
        "9. Define the model and compiling the neural network model with a optimizer and loss function.<br>\n",
        "10. Train the model using the training data with  batch size, num of epochs, val_data, and verbosity.<br>\n",
        "11. Calculate the root mean squared error (RMSE) for accuracy by prediction <br>\n",
        "<br><br>\n",
        "<b>ploting_loss:</b><br>  \n",
        "Plot the train and test loss with the number of interactions, RMSE, and final validation loss.<br></font>"
      ],
      "metadata": {
        "id": "JAZvHfPUDszi"
      }
    },
    {
      "cell_type": "code",
      "source": [
        "def cf_model(df1,n_interaction, batch_size, epochs,n_latent_factors, verbose, rating, optimizer):\n",
        "    tf.keras.backend.clear_session()\n",
        "    df1= interaction_filter(n_interaction)\n",
        "    n_interaction =n_interaction\n",
        "    data= df1.copy()\n",
        "    data = data.groupby(by=['visitorid', 'itemid','categoryid'])['event'].agg([rating]).reset_index()\n",
        "\n",
        "    \n",
        "    n_visitors = len(data['visitorid'].unique())\n",
        "    n_items = len(data['itemid'].unique())\n",
        "    \n",
        "    # create list of unique visitors and items\n",
        "    visitors = data['visitorid'].unique()\n",
        "    items = data.itemid.unique()\n",
        "\n",
        "    # create dictionary for visitor and items with their indexes which are position of that element\n",
        "    visitor_dic = {v:idx for idx,v in enumerate(visitors)}\n",
        "    item_dic = {v:idx for idx,v in enumerate(items)}\n",
        "    \n",
        "    #replace visitors and items with their corresponding index values\n",
        "    data['visitorid'] = data['visitorid'].apply(lambda x: visitor_dic[x])\n",
        "    data['itemid'] = data['itemid'].apply(lambda x: item_dic[x])\n",
        "    \n",
        "    # split the data into two part  \n",
        "    train, test = train_test_split(data, test_size=0.20, random_state=42)\n",
        "\n",
        "    # item Embeddings\n",
        "    item_input = Input(shape=(1,), name='item_Input')\n",
        "    item_embeddings = Embedding(n_items, n_latent_factors, input_length=1, name='item_Embedding')(item_input)\n",
        "    item_vector = Flatten(name='item_Vector')(item_embeddings)\n",
        "    \n",
        "    # visitor Embeddings\n",
        "    visitor_input = Input(shape=(1,), name='Movie_Input')\n",
        "    visitor_embeddings = Embedding(n_visitors, n_latent_factors, input_length=1, name='visitor_embedding')(visitor_input)\n",
        "    visitor_vector = Flatten(name='visitor_Vector')(visitor_embeddings)\n",
        "    \n",
        "    # dot Product \n",
        "    Dot_Product = dot([visitor_vector, item_vector], name='Dot_Product', axes=1)\n",
        "    model = Model([visitor_input, item_input], Dot_Product)\n",
        "    \n",
        "    # configure the learning process of a neural network model in Keras using Adam, adgard or RMSEprop optimizer\n",
        "    model.compile(optimizer=optimizer, loss='mse')\n",
        "    \n",
        "\n",
        "    # This line of code trains the compiled neural network model using the training data, with a specified batch size, number of epochs, validation data, and verbosity level.\n",
        "    History = model.fit([train.visitorid,train.itemid],train.rating, batch_size=batch_size,\n",
        "    epochs =epochs, validation_data = ([test.visitorid,test.itemid],test.rating),verbose =verbose)\n",
        "    \n",
        "    # calculate the mean squared error for accuracy\n",
        "    mse = mean_squared_error\n",
        "    test_pred = model.predict([test.visitorid, test.itemid])\n",
        "    RMSE = np.sqrt(mse(test_pred, test.rating))\n",
        "    print(\"RMSE: %.3f\\n\"%RMSE)\n",
        "    #print(len(data))\n",
        "    return RMSE, History, model, test ,n_interaction\n",
        "\n",
        "\n",
        "\n",
        "# plotting the training and test loss\n",
        "def ploting_loss(History, n_interaction, RMSE):\n",
        "    rcParams['figure.figsize'] = 5, 3\n",
        "    plt.plot(History.history['loss'], 'g')\n",
        "    plt.plot(History.history['val_loss'], 'b')\n",
        "    last_val_loss = History.history['val_loss'][-1]\n",
        "    plt.title('Model Loss')\n",
        "    plt.ylabel('Loss')\n",
        "    plt.xlabel('Epoch')\n",
        "    plt.title(f\"n_interaction: {n_interaction}, RMSE: {RMSE:.2f},  Final val_loss: {last_val_loss:.3f}\")\n",
        "    #plt.title(f\"n_interactions: {n_interaction}, RMSE : {RMSE:.2f} ,Final val_loss: {last_val_loss:.3f}\")\n",
        "    plt.legend(['train', 'test'], loc='upper left')\n",
        "    plt.grid(True)\n",
        "    plt.show()"
      ],
      "metadata": {
        "execution": {
          "iopub.status.busy": "2023-05-08T19:06:34.244349Z",
          "iopub.execute_input": "2023-05-08T19:06:34.244719Z",
          "iopub.status.idle": "2023-05-08T19:06:34.263967Z",
          "shell.execute_reply.started": "2023-05-08T19:06:34.244685Z",
          "shell.execute_reply": "2023-05-08T19:06:34.262628Z"
        },
        "trusted": true,
        "id": "hmcKfMyPDszi"
      },
      "execution_count": 89,
      "outputs": []
    },
    {
      "cell_type": "code",
      "source": [
        "\n",
        "rating = get_rating( 1,2,3)\n",
        "#rating = get_rating( 0.01,0.1, 1)\n",
        "RMSE, History, model ,test ,n_interaction = cf_model(df1,n_interaction= 500 ,batch_size=1024,epochs=20,\n",
        "                                                        n_latent_factors=65,  verbose=1,rating= rating ,optimizer=Adagrad(learning_rate=12) )"
      ],
      "metadata": {
        "execution": {
          "iopub.status.busy": "2023-05-08T19:06:34.265445Z",
          "iopub.execute_input": "2023-05-08T19:06:34.265790Z",
          "iopub.status.idle": "2023-05-08T19:06:42.618672Z",
          "shell.execute_reply.started": "2023-05-08T19:06:34.265758Z",
          "shell.execute_reply": "2023-05-08T19:06:42.617212Z"
        },
        "trusted": true,
        "id": "z3EGJQuEDszi",
        "outputId": "cac42708-d8ad-420e-e6c6-741fc351f43d",
        "colab": {
          "base_uri": "https://localhost:8080/"
        }
      },
      "execution_count": 90,
      "outputs": [
        {
          "output_type": "stream",
          "name": "stdout",
          "text": [
            "Epoch 1/20\n",
            "59/59 [==============================] - 1s 9ms/step - loss: 1.2441 - val_loss: 1.0688\n",
            "Epoch 2/20\n",
            "59/59 [==============================] - 0s 7ms/step - loss: 0.6681 - val_loss: 0.5589\n",
            "Epoch 3/20\n",
            "59/59 [==============================] - 1s 11ms/step - loss: 0.1771 - val_loss: 0.4690\n",
            "Epoch 4/20\n",
            "59/59 [==============================] - 1s 9ms/step - loss: 0.0535 - val_loss: 0.4467\n",
            "Epoch 5/20\n",
            "59/59 [==============================] - 0s 5ms/step - loss: 0.0205 - val_loss: 0.4415\n",
            "Epoch 6/20\n",
            "59/59 [==============================] - 0s 6ms/step - loss: 0.0092 - val_loss: 0.4392\n",
            "Epoch 7/20\n",
            "59/59 [==============================] - 0s 5ms/step - loss: 0.0046 - val_loss: 0.4382\n",
            "Epoch 8/20\n",
            "59/59 [==============================] - 0s 5ms/step - loss: 0.0024 - val_loss: 0.4379\n",
            "Epoch 9/20\n",
            "59/59 [==============================] - 0s 5ms/step - loss: 0.0014 - val_loss: 0.4377\n",
            "Epoch 10/20\n",
            "59/59 [==============================] - 0s 6ms/step - loss: 8.6582e-04 - val_loss: 0.4373\n",
            "Epoch 11/20\n",
            "59/59 [==============================] - 0s 6ms/step - loss: 5.5427e-04 - val_loss: 0.4373\n",
            "Epoch 12/20\n",
            "59/59 [==============================] - 0s 5ms/step - loss: 3.6966e-04 - val_loss: 0.4373\n",
            "Epoch 13/20\n",
            "59/59 [==============================] - 0s 5ms/step - loss: 2.4699e-04 - val_loss: 0.4373\n",
            "Epoch 14/20\n",
            "59/59 [==============================] - 0s 5ms/step - loss: 1.7090e-04 - val_loss: 0.4373\n",
            "Epoch 15/20\n",
            "59/59 [==============================] - 0s 5ms/step - loss: 1.1770e-04 - val_loss: 0.4373\n",
            "Epoch 16/20\n",
            "59/59 [==============================] - 0s 5ms/step - loss: 8.1778e-05 - val_loss: 0.4373\n",
            "Epoch 17/20\n",
            "59/59 [==============================] - 0s 5ms/step - loss: 5.7202e-05 - val_loss: 0.4373\n",
            "Epoch 18/20\n",
            "59/59 [==============================] - 0s 5ms/step - loss: 3.9528e-05 - val_loss: 0.4373\n",
            "Epoch 19/20\n",
            "59/59 [==============================] - 0s 5ms/step - loss: 2.8453e-05 - val_loss: 0.4373\n",
            "Epoch 20/20\n",
            "59/59 [==============================] - 0s 5ms/step - loss: 2.0549e-05 - val_loss: 0.4373\n",
            "472/472 [==============================] - 1s 1ms/step\n",
            "RMSE: 0.661\n",
            "\n"
          ]
        }
      ]
    },
    {
      "cell_type": "markdown",
      "source": [
        "<font size=\"+2\"><b> Comoparing optimizers:</b><br>\n",
        "\n",
        "  <font size=\"+1\">to evaluate the performance of optimizers we plot them at number of interaction = 500</font>\n",
        "    \n",
        "    \n",
        "<font size=\"+1\">\n",
        "1. Create optimizer list<br> \n",
        "2. Create a figure with subplots for each optimizer<br>\n",
        "3. run the collaborative filtering model<br>\n",
        "4. Plot the loss for each optimizer<br>"
      ],
      "metadata": {
        "id": "btTw3FuFDszj"
      }
    },
    {
      "cell_type": "code",
      "source": [
        "optimizers = [Adagrad(learning_rate=12), Adam(learning_rate=1e-3), RMSprop(learning_rate=1e-3)]\n",
        "\n",
        "def o_ploting_loss(History, n_interaction, RMSE, ax):\n",
        "    ax.plot(History.history['loss'], 'r')\n",
        "    ax.plot(History.history['val_loss'], 'navy')\n",
        "    last_val_loss = History.history['val_loss'][-1]\n",
        "    ax.set_title('Model Loss')\n",
        "    ax.set_ylabel('Loss')\n",
        "    ax.set_xlabel('Epoch')\n",
        "    ax.set_title(f\"optimizer:{type(optimizer).__name__} , RMSE: {RMSE:.2f},  Final val_loss: {last_val_loss:.3f}\")\n",
        "    ax.legend(['train', 'test'], loc='upper left')\n",
        "    ax.grid(True)\n",
        "fig, axs = plt.subplots(1, len(optimizers), figsize=(15,4))\n",
        "\n",
        "\n",
        "\n",
        "\n",
        "for ax, optimizer in zip(axs.flatten(), optimizers):\n",
        "    RMSE, History, model ,_,n_interaction = cf_model(df1,n_interaction= 500 ,batch_size=1024,epochs=20,n_latent_factors=65,  verbose=0,rating= rating ,optimizer= optimizer)\n",
        "    o_ploting_loss(History, n_interaction, RMSE, ax)"
      ],
      "metadata": {
        "execution": {
          "iopub.status.busy": "2023-05-08T19:06:42.620089Z",
          "iopub.execute_input": "2023-05-08T19:06:42.620429Z",
          "iopub.status.idle": "2023-05-08T19:07:24.639506Z",
          "shell.execute_reply.started": "2023-05-08T19:06:42.620397Z",
          "shell.execute_reply": "2023-05-08T19:07:24.638204Z"
        },
        "trusted": true,
        "id": "Ksa-rK_kDszj",
        "outputId": "e168d0a9-7430-4f55-8190-9baaf3082883",
        "colab": {
          "base_uri": "https://localhost:8080/",
          "height": 520
        }
      },
      "execution_count": 91,
      "outputs": [
        {
          "output_type": "stream",
          "name": "stdout",
          "text": [
            "472/472 [==============================] - 1s 1ms/step\n",
            "RMSE: 0.657\n",
            "\n",
            "472/472 [==============================] - 1s 1ms/step\n",
            "RMSE: 0.772\n",
            "\n",
            "472/472 [==============================] - 1s 1ms/step\n",
            "RMSE: 0.800\n",
            "\n"
          ]
        },
        {
          "output_type": "display_data",
          "data": {
            "text/plain": [
              "<Figure size 1500x400 with 3 Axes>"
            ],
            "image/png": "[encoded data removed]"
          },
          "metadata": {}
        }
      ]
    },
    {
      "cell_type": "markdown",
      "source": [
        "\n",
        "<font size=\"+2\"><b> view the deep learning model in the form of a Scalable Vector Graphics (SVG):</b>\n"
      ],
      "metadata": {
        "id": "aaVqLmGYDszj"
      }
    },
    {
      "cell_type": "code",
      "source": [
        "#  view the deep learning model in the form of a Scalable Vector Graphics (SVG)\n",
        "\n",
        "svg = model_to_dot(model, show_shapes=True, show_layer_names=True).create(prog='dot', format='png')\n",
        "display(Image(svg))"
      ],
      "metadata": {
        "_kg_hide-input": true,
        "_kg_hide-output": true,
        "execution": {
          "iopub.status.busy": "2023-05-08T19:07:24.640991Z",
          "iopub.execute_input": "2023-05-08T19:07:24.641456Z",
          "iopub.status.idle": "2023-05-08T19:07:24.942354Z",
          "shell.execute_reply.started": "2023-05-08T19:07:24.641419Z",
          "shell.execute_reply": "2023-05-08T19:07:24.940784Z"
        },
        "trusted": true,
        "id": "51JdLodIDszj",
        "outputId": "74fcd2ca-667b-489f-f670-4be3bdb42632",
        "colab": {
          "base_uri": "https://localhost:8080/",
          "height": 422
        }
      },
      "execution_count": 92,
      "outputs": [
        {
          "output_type": "display_data",
          "data": {
            "image/png": "[encoded data removed]",
            "text/plain": [
              "<IPython.core.display.Image object>"
            ]
          },
          "metadata": {}
        }
      ]
    },
    {
      "cell_type": "code",
      "source": [
        "ploting_loss(History, n_interaction, RMSE)"
      ],
      "metadata": {
        "execution": {
          "iopub.status.busy": "2023-05-08T19:07:24.945354Z",
          "iopub.execute_input": "2023-05-08T19:07:24.945772Z",
          "iopub.status.idle": "2023-05-08T19:07:25.305431Z",
          "shell.execute_reply.started": "2023-05-08T19:07:24.945732Z",
          "shell.execute_reply": "2023-05-08T19:07:25.303770Z"
        },
        "trusted": true,
        "id": "4xp_rTTADszj",
        "outputId": "ab0bb222-1b5b-4c69-8a2b-267917217f96",
        "colab": {
          "base_uri": "https://localhost:8080/",
          "height": 354
        }
      },
      "execution_count": 93,
      "outputs": [
        {
          "output_type": "display_data",
          "data": {
            "text/plain": [
              "<Figure size 500x300 with 1 Axes>"
            ],
            "image/png": "[encoded data removed]"
          },
          "metadata": {}
        }
      ]
    },
    {
      "cell_type": "markdown",
      "source": [
        "<font size=\"+1\">\n",
        "to get better result for recall and percision we change the rating values of view,add_to_cart,transaction from  1,2,3   to   0.01, 0.1, 1<br>\n",
        "and run the model again:"
      ],
      "metadata": {
        "id": "r8wPCmRqDszk"
      }
    },
    {
      "cell_type": "code",
      "source": [
        "# these values for events give us higher recall and percision, indicates that accuracy of mse is not reliable\n",
        "rating = get_rating(0.01, 0.1, 1)\n",
        "\n",
        "# by changing n_interaction you can see the impact of historical information\n",
        "RMSE, History, model, test ,n_interaction = cf_model(df1,n_interaction= 500 ,batch_size=1024,epochs=20,\n",
        "                                                        n_latent_factors=65,  verbose=1,rating= rating ,optimizer=Adam(learning_rate=1e-3) )"
      ],
      "metadata": {
        "execution": {
          "iopub.status.busy": "2023-05-08T19:07:25.307176Z",
          "iopub.execute_input": "2023-05-08T19:07:25.307600Z",
          "iopub.status.idle": "2023-05-08T19:07:46.690058Z",
          "shell.execute_reply.started": "2023-05-08T19:07:25.307560Z",
          "shell.execute_reply": "2023-05-08T19:07:46.689048Z"
        },
        "trusted": true,
        "id": "bNeDp52eDszk",
        "outputId": "3f0763cb-9847-4af9-d8a1-79d75dd41f3a",
        "colab": {
          "base_uri": "https://localhost:8080/"
        }
      },
      "execution_count": 94,
      "outputs": [
        {
          "output_type": "stream",
          "name": "stdout",
          "text": [
            "Epoch 1/20\n",
            "59/59 [==============================] - 3s 34ms/step - loss: 0.0220 - val_loss: 0.0190\n",
            "Epoch 2/20\n",
            "59/59 [==============================] - 2s 38ms/step - loss: 0.0213 - val_loss: 0.0189\n",
            "Epoch 3/20\n",
            "59/59 [==============================] - 2s 28ms/step - loss: 0.0201 - val_loss: 0.0188\n",
            "Epoch 4/20\n",
            "59/59 [==============================] - 2s 34ms/step - loss: 0.0179 - val_loss: 0.0187\n",
            "Epoch 5/20\n",
            "59/59 [==============================] - 2s 36ms/step - loss: 0.0145 - val_loss: 0.0185\n",
            "Epoch 6/20\n",
            "59/59 [==============================] - 2s 28ms/step - loss: 0.0106 - val_loss: 0.0186\n",
            "Epoch 7/20\n",
            "59/59 [==============================] - 3s 56ms/step - loss: 0.0076 - val_loss: 0.0186\n",
            "Epoch 8/20\n",
            "59/59 [==============================] - 3s 43ms/step - loss: 0.0054 - val_loss: 0.0187\n",
            "Epoch 9/20\n",
            "59/59 [==============================] - 2s 35ms/step - loss: 0.0037 - val_loss: 0.0188\n",
            "Epoch 10/20\n",
            "59/59 [==============================] - 2s 35ms/step - loss: 0.0024 - val_loss: 0.0189\n",
            "Epoch 11/20\n",
            "59/59 [==============================] - 2s 34ms/step - loss: 0.0015 - val_loss: 0.0189\n",
            "Epoch 12/20\n",
            "59/59 [==============================] - 2s 36ms/step - loss: 0.0010 - val_loss: 0.0190\n",
            "Epoch 13/20\n",
            "59/59 [==============================] - 2s 41ms/step - loss: 7.7040e-04 - val_loss: 0.0191\n",
            "Epoch 14/20\n",
            "59/59 [==============================] - 2s 40ms/step - loss: 6.1621e-04 - val_loss: 0.0191\n",
            "Epoch 15/20\n",
            "59/59 [==============================] - 2s 35ms/step - loss: 5.3248e-04 - val_loss: 0.0191\n",
            "Epoch 16/20\n",
            "59/59 [==============================] - 2s 37ms/step - loss: 4.9183e-04 - val_loss: 0.0191\n",
            "Epoch 17/20\n",
            "59/59 [==============================] - 1s 25ms/step - loss: 4.6340e-04 - val_loss: 0.0191\n",
            "Epoch 18/20\n",
            "59/59 [==============================] - 1s 24ms/step - loss: 4.5558e-04 - val_loss: 0.0191\n",
            "Epoch 19/20\n",
            "59/59 [==============================] - 2s 31ms/step - loss: 4.4586e-04 - val_loss: 0.0191\n",
            "Epoch 20/20\n",
            "59/59 [==============================] - 2s 37ms/step - loss: 4.3827e-04 - val_loss: 0.0191\n",
            "472/472 [==============================] - 1s 1ms/step\n",
            "RMSE: 0.138\n",
            "\n"
          ]
        }
      ]
    },
    {
      "cell_type": "markdown",
      "source": [
        "<font size=\"+2\"><b>evaluate_CF:</b><br>\n",
        " this evslustor claculate Recall and percision for the users of given size<br></font>\n",
        "<br>\n",
        "<font size=\"+1\">1. get unique visitors in test data and randomly select users of given size.<br>\n",
        "2. Loop across each user in the selected users and extract items interacted by the user.<br>\n",
        "3. Make predictions for all extracted items and sort them based on their ratings in descending order.<br>\n",
        "4. Select the top n recommended items.<br>\n",
        "5. caculate the percision and recall like what we have done in CBF evaluater.<br>\n",
        "</font>"
      ],
      "metadata": {
        "id": "dwrIS3b2Dszk"
      }
    },
    {
      "cell_type": "code",
      "source": [
        "def evaluate_CF(user_size, n_recom_items):\n",
        "    users_u = test.visitorid.unique()\n",
        "    users = np.random.choice(users_u, user_size)    \n",
        "    accuracies = []\n",
        "    precisions = []\n",
        "\n",
        "    \n",
        "    \n",
        "    for user in users:\n",
        "        user_items = test[test.visitorid == user].itemid.tolist()\n",
        "        item_ratings = model.predict([np.array([user] * len(test['itemid'])), test['itemid']],verbose=0)\n",
        "        sorted_items = [x for _,x in sorted(zip(item_ratings, test['itemid']), reverse=True)]\n",
        "        recommended_items = sorted_items[:n_recom_items]\n",
        "\n",
        "        # calculate recall:\n",
        "        correct_items = [item for item in recommended_items if item in user_items]\n",
        "        accuracy = len(correct_items) / len(user_items)\n",
        "        accuracies.append(accuracy)\n",
        "\n",
        "        # calculate precision:\n",
        "        relevant_items = [item for item in recommended_items if item in user_items]\n",
        "        precision = len(relevant_items) / len(recommended_items)\n",
        "        precisions.append(precision)\n",
        "\n",
        "    avg_recall = 100* sum(accuracies) / len(accuracies)\n",
        "    avg_precision = 100*sum(precisions) / len(precisions)\n",
        "    #F1_score = 2 * (avg_precision * avg_recall) / (avg_precision + avg_recall)\n",
        "    \n",
        "    #n_interaction =n_interaction\n",
        "    print(f\"CF precision across {user_size} users: {avg_precision:.2f}% \")\n",
        "    print(f\"CF recall across {user_size} users: {avg_recall:.2f}% \")\n",
        "    #print(f\"CF F1-score : {F1_score:.4f} \")"
      ],
      "metadata": {
        "execution": {
          "iopub.status.busy": "2023-05-08T19:07:46.691750Z",
          "iopub.execute_input": "2023-05-08T19:07:46.692278Z",
          "iopub.status.idle": "2023-05-08T19:07:46.703748Z",
          "shell.execute_reply.started": "2023-05-08T19:07:46.692230Z",
          "shell.execute_reply": "2023-05-08T19:07:46.702880Z"
        },
        "trusted": true,
        "id": "GsdzHXxqDszk"
      },
      "execution_count": 95,
      "outputs": []
    },
    {
      "cell_type": "markdown",
      "source": [
        "<font size=\"+1\"> recall and percision will be increase by changing number of interactions:"
      ],
      "metadata": {
        "id": "arOBmM6uDszk"
      }
    },
    {
      "cell_type": "code",
      "source": [
        "# change the parameter:n_interaction in the cf_model we can test the model \n",
        "evaluate_CF(user_size=20, n_recom_items=100)"
      ],
      "metadata": {
        "execution": {
          "iopub.status.busy": "2023-05-08T19:07:46.705072Z",
          "iopub.execute_input": "2023-05-08T19:07:46.706237Z",
          "iopub.status.idle": "2023-05-08T19:08:11.236677Z",
          "shell.execute_reply.started": "2023-05-08T19:07:46.706186Z",
          "shell.execute_reply": "2023-05-08T19:08:11.235202Z"
        },
        "trusted": true,
        "id": "iAdM1JOkDszu",
        "outputId": "5d2ccc2d-b03b-4342-8dfa-c5ffa2d232ad",
        "colab": {
          "base_uri": "https://localhost:8080/"
        }
      },
      "execution_count": 96,
      "outputs": [
        {
          "output_type": "stream",
          "name": "stdout",
          "text": [
            "CF precision across 20 users: 3.90% \n",
            "CF recall across 20 users: 3.94% \n"
          ]
        }
      ]
    },
    {
      "cell_type": "markdown",
      "source": [
        "<font size=\"+3\"><b> Hybrid model(light FM):</b><br>\n",
        "\n",
        "\n",
        "  <font size=\"+1\">we use Light FM model which is  Hybrid recommender ystem,<br>\n",
        "      The LightFM model's structure is almost similar to that of matrix factorization, with some differences.<br>\n",
        "      this model outperforms others in cold-starts  :</font>\n",
        "    \n",
        "![image.png](attachment:abcf9e0d-44de-493c-9fb7-072f640d168c.png)!\n",
        "    \n",
        "<font size=\"+1\">\n",
        "<b>Light_model:</b><br>\n",
        "1. Filter data based on number of interaction.<br>\n",
        "2. Group data by visitorids, itemids, and categoryisd and get the rating for each group<br>\n",
        "3. Get the number of unique visitors and items and Create lists of unique for each one<br>\n",
        "4. Map vitors and items to their index values and replace them with their index values.<br>\n",
        "5. Split data into train and test sets.<br>\n",
        "6. Create the sparse matrices for the train and test sets.<br>\n",
        "7. fine a `LightFM` model with the given number of components.<br>\n",
        "8. Fit the model on the train data <br>\n",
        "9. calculate the accuracy on the test data.<br>\n",
        "<br>\n",
        "In COO matrix(sparse) the rows and columns  correspond to the visitors and items, the values correspond to the rating, rest of them set to zero.    \n",
        "</font>\n"
      ],
      "metadata": {
        "id": "zniUjnE5Dszu"
      }
    },
    {
      "cell_type": "code",
      "source": [
        "def Light_model(df1, n_interaction, no_components, epochs):\n",
        "    df1= interaction_filter(n_interaction)\n",
        "    data= df1.copy()\n",
        "    data = data.groupby(by=['visitorid', 'itemid','categoryid'])['event'].agg([rating]).reset_index()  \n",
        "    n_visitors = len(data['visitorid'].unique())\n",
        "    n_items = len(data['itemid'].unique())\n",
        "    visitors = data['visitorid'].unique()\n",
        "    items = data.itemid.unique()\n",
        "    \n",
        "    visitor_dic = {v:idx for idx,v in enumerate(visitors)}\n",
        "    item_dic = {v:idx for idx,v in enumerate(items)}\n",
        "    data['visitorid'] = data['visitorid'].apply(lambda x: visitor_dic[x])\n",
        "    data['itemid'] = data['itemid'].apply(lambda x: item_dic[x])\n",
        "    \n",
        "    train, test_ = train_test_split(data, test_size=0.20, random_state=42)\n",
        "\n",
        "    matrix=dict()\n",
        "    matrix['train']=coo_matrix((train['rating'],(train['visitorid'], train['itemid'])) ,shape=(n_visitors,n_items))\n",
        "    matrix['test']=coo_matrix((test_['rating'],(test_['visitorid'], test_['itemid'])) ,shape=(n_visitors,n_items))\n",
        "\n",
        "    light_model=LightFM(no_components =no_components ,loss='warp')\n",
        "    light_model.fit(matrix['train'],epochs=epochs,num_threads=4)\n",
        "    ac_test = auc_score(light_model, matrix['test']).mean()\n",
        "    \n",
        "\n",
        "    print(\"Test AUC: %.3f\\n\"%ac_test)\n",
        "    return light_model, matrix, data, test_"
      ],
      "metadata": {
        "execution": {
          "iopub.status.busy": "2023-05-08T19:08:11.240055Z",
          "iopub.execute_input": "2023-05-08T19:08:11.241077Z",
          "iopub.status.idle": "2023-05-08T19:08:11.253479Z",
          "shell.execute_reply.started": "2023-05-08T19:08:11.241030Z",
          "shell.execute_reply": "2023-05-08T19:08:11.251986Z"
        },
        "trusted": true,
        "id": "YyHZQ8PHDszu"
      },
      "execution_count": 97,
      "outputs": []
    },
    {
      "cell_type": "code",
      "source": [
        "light_model, matrix, data, test_ = Light_model(df1, n_interaction=500, no_components=5,epochs=100)"
      ],
      "metadata": {
        "execution": {
          "iopub.status.busy": "2023-05-08T19:08:11.255103Z",
          "iopub.execute_input": "2023-05-08T19:08:11.255500Z",
          "iopub.status.idle": "2023-05-08T19:08:16.724061Z",
          "shell.execute_reply.started": "2023-05-08T19:08:11.255462Z",
          "shell.execute_reply": "2023-05-08T19:08:16.722714Z"
        },
        "trusted": true,
        "id": "Ndm-WRK6Dszv",
        "outputId": "2249b8ec-e006-49de-d961-10aa730f138f",
        "colab": {
          "base_uri": "https://localhost:8080/"
        }
      },
      "execution_count": 98,
      "outputs": [
        {
          "output_type": "stream",
          "name": "stdout",
          "text": [
            "Test AUC: 0.723\n",
            "\n"
          ]
        }
      ]
    },
    {
      "cell_type": "code",
      "source": [
        "# in the cell below we randomly choose a user and recommend him/her top 5 personalized items from test-data\n",
        "\n",
        "test_users = np.unique(matrix['test'].row)\n",
        "test_items = np.unique(matrix['test'].col)\n",
        "\n",
        "\n",
        "selected_user = np.random.choice(test_users)\n",
        "scores = light_model.predict(np.array([selected_user] *len(test_items)) ,test_items)\n",
        "\n",
        "recommend_item = []\n",
        "\n",
        "top_items = data['itemid'][np.argsort(-scores)].tolist()\n",
        "recommend_item.append(top_items[:5])\n",
        "print('For user: %s lightFM recommends: %s' % (selected_user, recommend_item))"
      ],
      "metadata": {
        "execution": {
          "iopub.status.busy": "2023-05-08T19:08:16.725326Z",
          "iopub.execute_input": "2023-05-08T19:08:16.725670Z",
          "iopub.status.idle": "2023-05-08T19:08:16.740414Z",
          "shell.execute_reply.started": "2023-05-08T19:08:16.725637Z",
          "shell.execute_reply": "2023-05-08T19:08:16.739150Z"
        },
        "trusted": true,
        "id": "-jl8wSvbDszv",
        "outputId": "43038368-c0b4-4fe0-c04f-afc18398c1e7",
        "colab": {
          "base_uri": "https://localhost:8080/"
        }
      },
      "execution_count": 99,
      "outputs": [
        {
          "output_type": "stream",
          "name": "stdout",
          "text": [
            "For user: 28 lightFM recommends: [[195, 2132, 2294, 2276, 692]]\n"
          ]
        }
      ]
    },
    {
      "cell_type": "markdown",
      "source": [
        "<font size=\"+1\">The LightFM evaluator works in the same way as Collaborative Filtering evaluator:"
      ],
      "metadata": {
        "id": "pmW3rHSCDszv"
      }
    },
    {
      "cell_type": "code",
      "source": [
        "def evaluate_lightFM(user_size, n_recom_items):\n",
        "\n",
        "    accuracies = []\n",
        "    precisions = []\n",
        "\n",
        "    for user in range(user_size):\n",
        "        selected_user = np.random.choice(test_users)\n",
        "        user_items = test_[test_.visitorid == selected_user].itemid.tolist()\n",
        "        \n",
        "        \n",
        "        #item_ratings = light_model.predict(np.array([user] * test_items), test_items)\n",
        "        item_ratings  = light_model.predict(np.array([selected_user] *len(test_items)) ,test_items)\n",
        "        sorted_items = [x for _,x in sorted(zip(item_ratings, test_items), reverse=True)]\n",
        "        recommended_items = sorted_items[:n_recom_items]\n",
        "        \n",
        "   # recall for this user\n",
        "        correct_items = [item for item in recommended_items if item in user_items]\n",
        "        accuracy = len(correct_items) / len(user_items)\n",
        "        accuracies.append(accuracy)\n",
        "    \n",
        "    # precision for this user\n",
        "        relevant_items = [item for item in recommended_items if item in user_items]\n",
        "        precision = len(relevant_items) / len(recommended_items)\n",
        "        precisions.append(precision)\n",
        "\n",
        "    avg_recall = sum(accuracies) / len(accuracies)*100\n",
        "    avg_precision = sum(precisions) / len(precisions)*100\n",
        "    #F1_score = 2 * (avg_precision * avg_recall) / (avg_precision + avg_recall)\n",
        "\n",
        "    print(f\"FM precision across {user_size} users: {avg_precision:.2f}% \")\n",
        "    print(f\"FM recall across {user_size} users: {avg_recall:.2f}% \")\n",
        "    #print(f\"FM F1-score : {F1_score:.3f} \")\n",
        "    \n"
      ],
      "metadata": {
        "execution": {
          "iopub.status.busy": "2023-05-08T19:08:16.744039Z",
          "iopub.execute_input": "2023-05-08T19:08:16.744542Z",
          "iopub.status.idle": "2023-05-08T19:08:16.756696Z",
          "shell.execute_reply.started": "2023-05-08T19:08:16.744486Z",
          "shell.execute_reply": "2023-05-08T19:08:16.755068Z"
        },
        "trusted": true,
        "id": "PV9942ieDszv"
      },
      "execution_count": 100,
      "outputs": []
    },
    {
      "cell_type": "markdown",
      "source": [
        "<font size=\"+2\"><b>Comparing the models:</b><br>\n",
        "<font size=\"+1\">comparing both model here by changing the parameter,<br>\n",
        "plese note that the most effective parameter in both system is n_interaction which can be found in the model"
      ],
      "metadata": {
        "id": "hxvz5fVqDszw"
      }
    },
    {
      "cell_type": "code",
      "source": [
        "evaluate_CF(user_size=10, n_recom_items=500)\n",
        "evaluate_lightFM(user_size=10, n_recom_items =500)"
      ],
      "metadata": {
        "execution": {
          "iopub.status.busy": "2023-05-08T19:08:16.758423Z",
          "iopub.execute_input": "2023-05-08T19:08:16.758750Z",
          "iopub.status.idle": "2023-05-08T19:08:29.349688Z",
          "shell.execute_reply.started": "2023-05-08T19:08:16.758711Z",
          "shell.execute_reply": "2023-05-08T19:08:29.348376Z"
        },
        "trusted": true,
        "id": "mOznEEuxDszw",
        "outputId": "c684745e-2e2f-4631-8862-363f1deb6629",
        "colab": {
          "base_uri": "https://localhost:8080/"
        }
      },
      "execution_count": 101,
      "outputs": [
        {
          "output_type": "stream",
          "name": "stdout",
          "text": [
            "CF precision across 10 users: 1.30% \n",
            "CF recall across 10 users: 7.30% \n",
            "FM precision across 10 users: 2.60% \n",
            "FM recall across 10 users: 39.27% \n"
          ]
        }
      ]
    },
    {
      "cell_type": "code",
      "source": [
        "# indicate the effect of size of recommendation list for CF(collaborative Filtering) and FM(Light FM)\n",
        "rcParams['figure.figsize'] = 4, 3\n",
        "\n",
        "x = [1,  5,    10,  20,     50]\n",
        "CF =[0,  0.2,  0.5, 0.3,   0.9]\n",
        "FM =[2,  2,    2.2,  1.9,  1.9]\n",
        "\n",
        "fig, (ax1) = plt.subplots()\n",
        "\n",
        "ax1.plot(x, CF, 'g')\n",
        "ax1.plot(x, FM, 'b')\n",
        "ax1.set_ylabel('percision')\n",
        "ax1.set_xlabel('recom list number')\n",
        "ax1.legend(['CF', 'FM'], loc='upper left')\n",
        "ax1.grid(True)\n",
        "\n",
        "\n",
        "\n",
        "fig.suptitle('persicion in different size of recommendation list for those who have more than 15 interactions')\n",
        "plt.show()\n"
      ],
      "metadata": {
        "execution": {
          "iopub.status.busy": "2023-05-08T19:08:29.351360Z",
          "iopub.execute_input": "2023-05-08T19:08:29.351746Z",
          "iopub.status.idle": "2023-05-08T19:08:29.644752Z",
          "shell.execute_reply.started": "2023-05-08T19:08:29.351711Z",
          "shell.execute_reply": "2023-05-08T19:08:29.643582Z"
        },
        "trusted": true,
        "id": "92CMVRrDDszw",
        "outputId": "57693d87-e3bd-49e4-f7d8-e7df7f523ad5",
        "colab": {
          "base_uri": "https://localhost:8080/",
          "height": 361
        }
      },
      "execution_count": 102,
      "outputs": [
        {
          "output_type": "display_data",
          "data": {
            "text/plain": [
              "<Figure size 400x300 with 1 Axes>"
            ],
            "image/png": "[encoded data removed]"
          },
          "metadata": {}
        }
      ]
    },
    {
      "cell_type": "markdown",
      "source": [
        "<font size=\"+2\">show the percision for different values of the number of interactions for CF(collaborative Filtering) and FM(Light FM):"
      ],
      "metadata": {
        "id": "7A6XXXm9Dszw"
      }
    },
    {
      "cell_type": "code",
      "source": [
        "rcParams['figure.figsize'] = 4, 3\n",
        "\n",
        "x = [20,  50,   100,   300, 500,  1000, 1500,  2500,  3000,  3500]\n",
        "CF = [0,  0.6,  0.5,   2,   4.1,  8.7,  7.6,   34,    46.2,  100]\n",
        "FM = [.5, 0.7,  2.5,   2.5, 5.2,  3.8,  2.3,   16.4,  41.3,  100]\n",
        "\n",
        "fig, (ax1) = plt.subplots()\n",
        "\n",
        "ax1.plot(x, CF, 'g')\n",
        "ax1.plot(x, FM, 'b')\n",
        "ax1.set_ylabel('percision')\n",
        "ax1.set_xlabel('user interaction')\n",
        "ax1.legend(['CF', 'FM'], loc='upper left')\n",
        "ax1.grid(True)\n",
        "\n",
        "\n",
        "fig.suptitle('Percision for 12 users')\n",
        "plt.show()\n"
      ],
      "metadata": {
        "execution": {
          "iopub.status.busy": "2023-05-08T19:08:29.646064Z",
          "iopub.execute_input": "2023-05-08T19:08:29.646427Z",
          "iopub.status.idle": "2023-05-08T19:08:29.911464Z",
          "shell.execute_reply.started": "2023-05-08T19:08:29.646391Z",
          "shell.execute_reply": "2023-05-08T19:08:29.909995Z"
        },
        "trusted": true,
        "id": "W3-WtmsDDszw",
        "outputId": "eeee56d9-c287-45a1-a694-7cf475df4118",
        "colab": {
          "base_uri": "https://localhost:8080/",
          "height": 361
        }
      },
      "execution_count": 103,
      "outputs": [
        {
          "output_type": "display_data",
          "data": {
            "text/plain": [
              "<Figure size 400x300 with 1 Axes>"
            ],
            "image/png": "[encoded data removed]"
          },
          "metadata": {}
        }
      ]
    },
    {
      "cell_type": "markdown",
      "source": [
        "<font size=\"+2\"> show the imapact of different values of the number of interactions in recall for CF(collaborative Filtering) and FM(Light FM) models:\n"
      ],
      "metadata": {
        "id": "_T4G5EvbDszw"
      }
    },
    {
      "cell_type": "code",
      "source": [
        "rcParams['figure.figsize'] = 4, 3\n",
        "\n",
        "x = [20,   50,   100,  300,  500, 1000,  1500, 2500,   3000, 3500]\n",
        "CF = [0,   2.4,  2.8,  1.7,  3.3, 3.7,   3,    16.3,   19.2, 30.2]\n",
        "FM = [1.5, 6,    4,    4.5,  3.2, 3.9,   1.15,  7.8,   15.1, 30.2]\n",
        "\n",
        "fig, (ax1, ax2) = plt.subplots(1, 2, figsize=(8, 3))\n",
        "\n",
        "ax1.plot(x, CF, 'g')\n",
        "ax1.plot(x, FM, 'b')\n",
        "#ax1.set_title('for 12 user and 100 recomend')\n",
        "ax1.set_ylabel('recall')\n",
        "ax1.set_xlabel('user interaction')\n",
        "ax2.set_xlim(0, 3500)\n",
        "ax1.grid(True)\n",
        "ax1.legend(['CF', 'FM'], loc='upper left')\n",
        "\n",
        "ax2.plot(x, CF, 'g')\n",
        "ax2.plot(x, FM, 'b')\n",
        "ax2.set_ylabel('recall')\n",
        "ax2.set_xlabel('user interaction')\n",
        "ax2.set_xlim(0, 500)\n",
        "ax2.grid(True)\n",
        "ax1.legend(['CF', 'FM'], loc='upper left')\n",
        "\n",
        "fig.suptitle('Recall for 12 users and 100 recommendations in two scale')\n",
        "plt.show()"
      ],
      "metadata": {
        "execution": {
          "iopub.status.busy": "2023-05-08T19:08:29.917566Z",
          "iopub.execute_input": "2023-05-08T19:08:29.918381Z",
          "iopub.status.idle": "2023-05-08T19:08:30.350349Z",
          "shell.execute_reply.started": "2023-05-08T19:08:29.918336Z",
          "shell.execute_reply": "2023-05-08T19:08:30.349081Z"
        },
        "trusted": true,
        "id": "ZrVtU6rgDszx",
        "outputId": "6db84859-baf0-49f4-cca2-8f4ba34178f2",
        "colab": {
          "base_uri": "https://localhost:8080/",
          "height": 361
        }
      },
      "execution_count": 104,
      "outputs": [
        {
          "output_type": "display_data",
          "data": {
            "text/plain": [
              "<Figure size 800x300 with 2 Axes>"
            ],
            "image/png": "[encoded data removed]"
          },
          "metadata": {}
        }
      ]
    },
    {
      "cell_type": "markdown",
      "source": [
        "<font size=\"+2\"><b>comparison between the RMSE and (recall,percision):</b><br>\n",
        " <br>\n",
        "<font size=\"+1\"> RSME is not a good metric for user-item rating in this systems,<br> \n",
        " because when we run the model,at a low number of interactions such as 10, RMSE will be minimised<br> \n",
        " but its percision and recall are almost zero thus,<br>\n",
        " we should use recall and percision for our evaluation<br>\n",
        "<br>\n",
        "to demonstrate that, if you have enough time you can run the following code to see the RMSE, Recall and Percision at a low number of interactions:<br>\n",
        "    \n",
        "    time taken for following cell: <b>4.5 min</b>\n",
        "    "
      ],
      "metadata": {
        "id": "9Avc1Cn0Dszx"
      }
    },
    {
      "cell_type": "code",
      "source": [
        "# RMSE, History, model ,test ,n_interaction = cf_model(df1,n_interaction=9 ,batch_size=1024,epochs=20,n_latent_factors=65,  verbose=1,rating= rating ,optimizer=Adagrad(learning_rate=12) )\n",
        "# ploting_loss(History, n_interaction, RMSE)\n",
        "# evaluate_CF(user_size=20, n_recom_items=100)"
      ],
      "metadata": {
        "execution": {
          "iopub.status.busy": "2023-05-08T19:41:54.365690Z",
          "iopub.execute_input": "2023-05-08T19:41:54.366144Z",
          "iopub.status.idle": "2023-05-08T19:42:20.085712Z",
          "shell.execute_reply.started": "2023-05-08T19:41:54.366109Z",
          "shell.execute_reply": "2023-05-08T19:42:20.084458Z"
        },
        "trusted": true,
        "id": "OzkA3T-9Dszx"
      },
      "execution_count": 105,
      "outputs": []
    },
    {
      "cell_type": "code",
      "source": [],
      "metadata": {
        "id": "Y16cpaTCDszx"
      },
      "execution_count": 105,
      "outputs": []
    }
  ]
}